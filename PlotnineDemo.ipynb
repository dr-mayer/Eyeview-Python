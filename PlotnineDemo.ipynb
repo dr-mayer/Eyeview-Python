{
 "cells": [
  {
   "cell_type": "code",
   "execution_count": null,
   "metadata": {},
   "outputs": [],
   "source": [
    "import numpy as np\n",
    "import pandas as pd\n",
    "import time\n",
    "import plotnine as p9"
   ]
  },
  {
   "cell_type": "code",
   "execution_count": null,
   "metadata": {},
   "outputs": [],
   "source": [
    "df = pd.read_csv(\"/Users/Nathan/Desktop/diamonds.csv\")"
   ]
  },
  {
   "cell_type": "code",
   "execution_count": null,
   "metadata": {},
   "outputs": [],
   "source": [
    "df.info()\n",
    "df.head()"
   ]
  },
  {
   "cell_type": "code",
   "execution_count": null,
   "metadata": {},
   "outputs": [],
   "source": [
    "(p9.ggplot(df) + p9.aes(x='carat', y='price') + p9.geom_point())"
   ]
  },
  {
   "cell_type": "code",
   "execution_count": null,
   "metadata": {},
   "outputs": [],
   "source": [
    "(p9.ggplot(df) + p9.aes(x='carat', y='price') + p9.geom_point() + p9.theme_minimal() )"
   ]
  },
  {
   "cell_type": "code",
   "execution_count": null,
   "metadata": {},
   "outputs": [],
   "source": [
    "(p9.ggplot(df) + p9.aes(x='carat', y='price') + p9.geom_point() + p9.theme_minimal() + \n",
    " p9.ylab('Price ($)') + p9.xlab('Weight (ct)') )"
   ]
  },
  {
   "cell_type": "code",
   "execution_count": null,
   "metadata": {},
   "outputs": [],
   "source": [
    "(p9.ggplot(df) + p9.aes(x='carat', y='price', color='cut') + p9.geom_point() + p9.geom_line() + p9.theme_minimal() + \n",
    " p9.ylab('Price ($)') + p9.xlab('Weight (ct)'))"
   ]
  },
  {
   "cell_type": "code",
   "execution_count": null,
   "metadata": {},
   "outputs": [],
   "source": [
    "(p9.ggplot(df) + p9.aes(x='carat', y='price', color='cut', shape='color') + p9.geom_point() + p9.theme_minimal() + \n",
    " p9.ylab('Price ($)') + p9.xlab('Weight (ct)') )"
   ]
  },
  {
   "cell_type": "code",
   "execution_count": null,
   "metadata": {},
   "outputs": [],
   "source": [
    "(p9.ggplot(df) + p9.aes(x='carat', y='price', color='cut', shape='color') + p9.geom_point() + p9.theme_minimal() + \n",
    " p9.xlab('Price ($)') + p9.ylab('Weight (ct)') + p9.facet_wrap('~clarity', ncol=3) )"
   ]
  },
  {
   "cell_type": "code",
   "execution_count": null,
   "metadata": {},
   "outputs": [],
   "source": [
    "(p9.ggplot(df) + p9.aes(x='carat', y='price', color='color') + p9.geom_point() + p9.theme_minimal() + \n",
    " p9.xlab('Price ($)') + p9.ylab('Weight (ct)') + p9.facet_wrap('~clarity', ncol=3) + p9.stat_smooth() )"
   ]
  },
  {
   "cell_type": "code",
   "execution_count": null,
   "metadata": {},
   "outputs": [],
   "source": [
    " (p9.ggplot(df) + p9.aes(x='carat') + p9.geom_histogram() + p9.theme_minimal() )"
   ]
  },
  {
   "cell_type": "code",
   "execution_count": null,
   "metadata": {},
   "outputs": [],
   "source": [
    " (p9.ggplot(df) + p9.aes(x='carat') + p9.geom_histogram(bins=20) + p9.theme_minimal() )"
   ]
  },
  {
   "cell_type": "code",
   "execution_count": null,
   "metadata": {},
   "outputs": [],
   "source": [
    "(p9.ggplot(df) + p9.aes(x='carat', color='cut', fill='cut') + p9.geom_histogram(bins=20, position='stack') + \n",
    " p9.theme_minimal() )"
   ]
  },
  {
   "cell_type": "code",
   "execution_count": null,
   "metadata": {},
   "outputs": [],
   "source": [
    "(p9.ggplot(df) + p9.aes(x='carat', color='cut', fill='cut') + \n",
    " p9.geom_histogram(bins=20, position='identity', alpha=0.4) + \n",
    " p9.theme_minimal() )"
   ]
  },
  {
   "cell_type": "code",
   "execution_count": null,
   "metadata": {},
   "outputs": [],
   "source": [
    "(p9.ggplot(df) + p9.aes(x='carat', color='cut', fill='cut') + \n",
    " p9.geom_histogram(bins=20, position='stack', alpha=0.4) + \n",
    " p9.theme_minimal() + p9.facet_wrap('~color', ncol=3))"
   ]
  },
  {
   "cell_type": "code",
   "execution_count": null,
   "metadata": {},
   "outputs": [],
   "source": [
    "fig = (p9.ggplot(df) + p9.aes(x='carat', y='stat(density)', color='cut', fill='cut') + \n",
    " p9.geom_histogram(bins=20, position='stack', alpha=0.4) + \n",
    " p9.theme_minimal() + p9.facet_wrap('~color', ncol=3))"
   ]
  },
  {
   "cell_type": "code",
   "execution_count": null,
   "metadata": {},
   "outputs": [],
   "source": [
    "(p9.ggplot(df) + p9.aes(x='depth', y='table') + \n",
    " p9.geom_bin2d(bins=20) + \n",
    " p9.theme_minimal() + p9.facet_wrap('~cut', ncol=3))"
   ]
  },
  {
   "cell_type": "code",
   "execution_count": null,
   "metadata": {},
   "outputs": [],
   "source": [
    "fig + p9.ylab(\"Foo\")"
   ]
  },
  {
   "cell_type": "code",
   "execution_count": null,
   "metadata": {},
   "outputs": [],
   "source": [
    "fig.save(filename = '/Users/Nathan/Desktop/bidder4Poc/test.png', height=1.5, width=4, units = 'in', dpi=300)"
   ]
  },
  {
   "cell_type": "code",
   "execution_count": null,
   "metadata": {},
   "outputs": [],
   "source": [
    "df[['carat']].mean()"
   ]
  },
  {
   "cell_type": "code",
   "execution_count": null,
   "metadata": {},
   "outputs": [],
   "source": [
    "df['carat'].mean()"
   ]
  },
  {
   "cell_type": "code",
   "execution_count": null,
   "metadata": {},
   "outputs": [],
   "source": []
  }
 ],
 "metadata": {
  "kernelspec": {
   "display_name": "Python 3",
   "language": "python",
   "name": "python3"
  },
  "language_info": {
   "codemirror_mode": {
    "name": "ipython",
    "version": 3
   },
   "file_extension": ".py",
   "mimetype": "text/x-python",
   "name": "python",
   "nbconvert_exporter": "python",
   "pygments_lexer": "ipython3",
   "version": "3.6.5"
  }
 },
 "nbformat": 4,
 "nbformat_minor": 2
}
